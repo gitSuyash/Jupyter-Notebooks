{
 "cells": [
  {
   "cell_type": "markdown",
   "metadata": {},
   "source": [
    "# Analysis of Data from FIFA19"
   ]
  },
  {
   "cell_type": "code",
   "execution_count": 1,
   "metadata": {},
   "outputs": [],
   "source": [
    "import pandas as pd\n",
    "import numpy as np\n",
    "name ='./data/data.csv'\n",
    "data = pd.read_csv(name)\n"
   ]
  },
  {
   "cell_type": "markdown",
   "metadata": {},
   "source": [
    "### Making a list of different teams present in data"
   ]
  },
  {
   "cell_type": "code",
   "execution_count": 2,
   "metadata": {},
   "outputs": [],
   "source": [
    "data_clubs = data.loc[:,\"Club\"]\n",
    "clubs= []\n",
    "for row in data_clubs:\n",
    "        if row not in clubs:\n",
    "            row = str(row)\n",
    "            if row != 'nan':\n",
    "                clubs.append(row)\n",
    "clubs_np = np.array(clubs)\n",
    "club_df = pd.DataFrame({\"Clubs\":clubs})"
   ]
  },
  {
   "cell_type": "markdown",
   "metadata": {},
   "source": [
    "###  Average age span of all the teams"
   ]
  },
  {
   "cell_type": "code",
   "execution_count": 3,
   "metadata": {},
   "outputs": [],
   "source": [
    "age_list = []\n",
    "for row in clubs_np:\n",
    "    if row != 'nan':    \n",
    "        summ=0\n",
    "        age_bool = data.loc[:,\"Club\"] == row\n",
    "        ages = data.loc[age_bool,\"Age\"]\n",
    "        for each in ages:\n",
    "            summ+=float(each)\n",
    "            length = len(ages)\n",
    "        avg_age = round(summ/length)\n",
    "        avg_age = float(avg_age)\n",
    "        age_list.append(avg_age)\n",
    "club_df =pd.DataFrame({'Average Age':age_list})\n",
    "club_df['Clubs'] = clubs\n"
   ]
  },
  {
   "cell_type": "markdown",
   "metadata": {},
   "source": [
    "### Formatting Wage Column  "
   ]
  },
  {
   "cell_type": "code",
   "execution_count": 4,
   "metadata": {},
   "outputs": [],
   "source": [
    "wages = data.loc[:,\"Wage\"]\n",
    "wage_value =[]\n",
    "for row in wages:\n",
    "    row = row.replace(\"€\",\"\")\n",
    "    row = row.replace(\"K\",\"\")\n",
    "    wage_value.append(int(row))\n",
    "wage_np = np.array(wage_value)\n",
    "wages_pd = pd.DataFrame({'Earnings':wage_value})    "
   ]
  },
  {
   "cell_type": "markdown",
   "metadata": {},
   "source": [
    "### Total amount spent By Teams"
   ]
  },
  {
   "cell_type": "code",
   "execution_count": 5,
   "metadata": {},
   "outputs": [],
   "source": [
    "wage_amt_list = []\n",
    "wage_amt_float = []\n",
    "for row in clubs_np:\n",
    "    if row != 'nan':    \n",
    "        amt=0\n",
    "        wage_bool = data.loc[:,\"Club\"] == row\n",
    "        wages = wages_pd.loc[wage_bool,\"Earnings\"]\n",
    "        for each in wages:\n",
    "            amt+=float(each)\n",
    "        wage_amt = float(amt)\n",
    "        wage_amt_list.append(wage_amt)\n",
    "        wage_amt_float.append(float(wage_amt))\n",
    "club_df =pd.DataFrame({'Total Wages':wage_amt_list})\n",
    "club_df['Clubs'] = clubs\n",
    "club_df['Average Age'] = age_list\n"
   ]
  },
  {
   "cell_type": "markdown",
   "metadata": {},
   "source": [
    "### Overall Strength of The Team"
   ]
  },
  {
   "cell_type": "code",
   "execution_count": 6,
   "metadata": {},
   "outputs": [],
   "source": [
    "overall_amt_list =[]\n",
    "for row in clubs_np:\n",
    "    if row != 'nan':    \n",
    "        overall_qty=0\n",
    "        overall_bool = data.loc[:,\"Club\"] == row\n",
    "        overalls = data.loc[overall_bool,\"Overall\"]\n",
    "        for each in overalls:\n",
    "            overall_qty+=float(each)\n",
    "            length = len(overalls)\n",
    "        overall_amt = round(overall_qty/length)\n",
    "        overall_amt = float(overall_amt)\n",
    "        overall_amt_list.append(overall_amt)\n",
    "overall_pd = pd.DataFrame({'Overall':overall_amt_list})"
   ]
  },
  {
   "cell_type": "markdown",
   "metadata": {},
   "source": [
    "### Number of Players in each Team"
   ]
  },
  {
   "cell_type": "code",
   "execution_count": 7,
   "metadata": {},
   "outputs": [],
   "source": [
    "num_players = []\n",
    "for row in clubs_np:\n",
    "    if row != 'nan':\n",
    "        player_bool = data.loc[:,\"Club\"] == row\n",
    "        players = data.loc[player_bool,\"Name\"]\n",
    "        players = list(players)\n",
    "        team_size = len(players)\n",
    "        num_players.append(team_size)"
   ]
  },
  {
   "cell_type": "markdown",
   "metadata": {},
   "source": [
    "## Final DataFrame & some Highlighted Stats"
   ]
  },
  {
   "cell_type": "code",
   "execution_count": 8,
   "metadata": {},
   "outputs": [
    {
     "name": "stdout",
     "output_type": "stream",
     "text": [
      "6    Real Madrid has highest monetary value €5017.0K\n",
      "Name: Clubs, dtype: object\n",
      "208    Paraná has eldest average of 32.0\n",
      "Name: Clubs, dtype: object\n",
      "1    Juventus has best overall strength 82.0\n",
      "Name: Clubs, dtype: object\n",
      "490    FC Nordsjælland has youngest average of 20.0\n",
      "Name: Clubs, dtype: object\n",
      "                  Clubs  Avg. Age  Value in €*  Avg.Overall  No.of Players\n",
      "0          FC Barcelona      24.0       4837.0         78.0             33\n",
      "1              Juventus      27.0       3292.0         82.0             25\n",
      "2   Paris Saint-Germain      25.0       2161.0         77.0             30\n",
      "3     Manchester United      25.0       3391.0         77.0             33\n",
      "4       Manchester City      24.0       3741.0         77.0             33\n",
      "5               Chelsea      25.0       3249.0         77.0             33\n",
      "6           Real Madrid      24.0       5017.0         78.0             33\n",
      "7       Atlético Madrid      24.0       1533.0         75.0             33\n",
      "8     FC Bayern München      24.0       2286.0         77.0             29\n",
      "9     Tottenham Hotspur      25.0       2623.0         77.0             33\n",
      "10            Liverpool      24.0       2902.0         76.0             33\n",
      "11               Napoli      26.0       1777.0         80.0             25\n",
      "12              Arsenal      25.0       2588.0         75.0             33\n",
      "13                Milan      25.0       1957.0         78.0             27\n",
      "14                Inter      27.0       1596.0         80.0             24\n",
      "15                Lazio      25.0       1226.0         75.0             32\n",
      "16    Borussia Dortmund      23.0       1258.0         75.0             33\n",
      "17          Vissel Kobe      27.0         85.0         63.0             30\n",
      "18   Olympique Lyonnais      23.0       1125.0         73.0             29\n",
      "19                 Roma      26.0       1399.0         77.0             26\n"
     ]
    }
   ],
   "source": [
    "club_detail_pd = pd.DataFrame({'Clubs':clubs})\n",
    "club_detail_pd['Avg. Age'] = age_list\n",
    "club_detail_pd['Value in €*'] = wage_amt_list\n",
    "club_detail_pd['Avg.Overall'] = overall_amt_list\n",
    "club_detail_pd['No.of Players'] = num_players\n",
    "max_age = club_detail_pd.loc[:,'Avg. Age'].max()\n",
    "max_wage = club_detail_pd.loc[:,'Value in €*'].max()\n",
    "max_overall = club_detail_pd.loc[:,'Avg.Overall'].max()\n",
    "min_age = club_detail_pd.loc[:,'Avg. Age'].min()\n",
    "team_wage = club_detail_pd.loc[club_detail_pd.loc[:,\"Value in €*\"] == max_wage,\"Clubs\"]\n",
    "team_max_age = club_detail_pd.loc[club_detail_pd.loc[:,\"Avg. Age\"] == max_age,\"Clubs\"]\n",
    "team_overall = club_detail_pd.loc[club_detail_pd.loc[:,\"Avg.Overall\"] == max_overall,\"Clubs\"]\n",
    "team_min_age = club_detail_pd.loc[club_detail_pd.loc[:,\"Avg. Age\"] == min_age,\"Clubs\"]\n",
    "print( team_wage+ \" has highest monetary value €\" + str(max_wage) + \"K\")\n",
    "print(team_max_age + \" has eldest average of \"+ str(max_age))\n",
    "print(team_overall + \" has best overall strength \"+ str(max_overall))\n",
    "print(team_min_age + \" has youngest average of \"+ str(min_age))\n",
    "print(club_detail_pd.head(20))"
   ]
  },
  {
   "cell_type": "markdown",
   "metadata": {},
   "source": [
    "#### * *Values are in K*"
   ]
  }
 ],
 "metadata": {
  "kernelspec": {
   "display_name": "Python 3",
   "language": "python",
   "name": "python3"
  },
  "language_info": {
   "codemirror_mode": {
    "name": "ipython",
    "version": 3
   },
   "file_extension": ".py",
   "mimetype": "text/x-python",
   "name": "python",
   "nbconvert_exporter": "python",
   "pygments_lexer": "ipython3",
   "version": "3.6.8"
  }
 },
 "nbformat": 4,
 "nbformat_minor": 2
}
